{
 "cells": [
  {
   "cell_type": "code",
   "execution_count": 1,
   "metadata": {},
   "outputs": [],
   "source": [
    "import pandas as pd\n",
    "\n",
    "from scipy.stats import ttest_ind, norm\n",
    "from matplotlib import pyplot as plt"
   ]
  },
  {
   "cell_type": "code",
   "execution_count": 2,
   "metadata": {},
   "outputs": [
    {
     "data": {
      "text/plain": [
       "array([-11.73445766,  -6.1416944 ,   9.48471469,   3.92678721,\n",
       "        -7.77062219,   7.30518497,   2.13916049,  24.29747456,\n",
       "        15.26103516,  11.82842958,  22.22938992, -14.84757478,\n",
       "        -3.66375365,  -5.49688845,  13.05257116, -13.44993242,\n",
       "        14.07578847,   0.75216433,   7.39922652,  28.23287096,\n",
       "         5.85522273,  21.0629963 ,   2.78080215, -14.48725772,\n",
       "        14.51840541,   6.29755735,   6.48760037,  14.11500602,\n",
       "        19.38395918,   2.13190373,  -1.87005462,   6.73321837,\n",
       "         7.57790365,  16.6012898 ,   8.79701623,  11.39499223,\n",
       "         4.92406975,   5.83151247,  10.15951281,   3.8867648 ,\n",
       "         7.30785631,  11.16022571,  -5.7041525 ,  -1.15866078,\n",
       "         9.3908912 ,   6.05326429,  12.91288268,  11.01040792,\n",
       "        17.15372899,  -2.06424337,   6.99475614,  -4.62722686,\n",
       "         3.17530185,  -5.14985831,  -6.09118334,  -4.69569719,\n",
       "         8.44920776,   7.67344392,   7.91181798,   7.44557511,\n",
       "       -17.92118398,   0.90353686,   7.77871685,   7.2567204 ,\n",
       "        10.22267675,   2.6954423 ,   8.4401851 ,  -5.01546042,\n",
       "        14.26892552,   4.17925031,   5.54397449,   8.37423606,\n",
       "         5.22841779,  -0.42419104,   2.75099305,  -4.77563988,\n",
       "         7.91722787,   1.18067046,   4.47802136,  19.36220422,\n",
       "         1.53025093,  -7.96982649,   9.12926933,  20.03835926,\n",
       "         4.51476297,  -6.11509938,   1.99348288,   7.0194303 ,\n",
       "        12.28860003,  15.01210203,   8.80839494,   3.79659921,\n",
       "       -11.55253297,  11.73966453,  -0.59042628,  -4.94977541,\n",
       "         2.38486959,   6.23717001,  12.09797594,  11.35808708,\n",
       "         9.71499449,   2.43093783,  -5.82111502,   2.99072986,\n",
       "        -4.51255115,  20.8862425 ,  17.57765396,  19.19288107,\n",
       "        -1.40297642,   8.39710777,   3.84929033,  -7.49058054,\n",
       "         0.23644595,  13.13183472,  16.46619685,   2.78109697,\n",
       "         5.90365765,  -3.54963386,   3.65873512,  -3.95428729,\n",
       "         2.75640249,  -0.49695332, -10.15481246,  12.04458448,\n",
       "        15.26165912,  -2.32944032, -20.79519869,  11.00998411,\n",
       "        13.70432779,  -3.41213182,   0.33575745,  11.24333246,\n",
       "        -1.61056293,  11.87003386,   3.26595193,  21.05182228,\n",
       "         3.37599952,   9.38029503,  16.70321488,   8.1393543 ,\n",
       "         3.55850191,   9.6708856 ,   1.77915113,  -1.6936199 ,\n",
       "        -4.81420267,   7.24639043,  -0.10187238,  -1.730001  ,\n",
       "         1.11102547,  -2.22157626,  14.29088677,   8.86876935,\n",
       "        -2.14206344, -10.45571078,  12.24226425,   9.79435027,\n",
       "       -10.62240848,  -2.6138748 ,   1.49778356,   4.83622144,\n",
       "       -15.84666825,  15.93019691,   2.63099186,   4.23542879,\n",
       "        16.89741536,  16.25347102,  11.53954195,  22.49323977,\n",
       "        -8.83912993,   6.62919147,   2.44496171,   2.00298333,\n",
       "        13.93887225,  10.64319988,   5.10118829,   1.47918125,\n",
       "         2.74528373,   5.83145167,   6.90893609,   3.87906886,\n",
       "        -3.38174379, -13.50486391,   0.84728919,   9.27509088,\n",
       "         7.23466966,  -1.49497133,  -7.9204062 ,   2.55480603,\n",
       "         4.50691895,  13.07910766,  -1.42744966,   5.8126406 ,\n",
       "         1.34334111,   9.63245449,  -1.19019048,  -2.5558654 ,\n",
       "        19.57163626,  -7.40723571,   2.22570923,  12.3201485 ,\n",
       "         0.748874  ,   8.02142824,   0.42476285, -11.78801355,\n",
       "         0.10885539,  -0.64088259,  10.73659906,   6.6608616 ,\n",
       "         1.68137419,   4.59506125,  14.28774496,  -1.37536414,\n",
       "        20.13569654, -16.97881649,  12.61397813,   9.22630494,\n",
       "        20.06856898, -19.20729661,   6.9728089 ,  -0.56164421,\n",
       "        25.48622793,  11.92507879,  10.13064987,  16.43514971,\n",
       "        13.97568527,  -2.36032445,   2.69164234,  -5.80099182,\n",
       "         0.17990318,   3.33965137,  15.45533045,  14.37910524,\n",
       "        11.56732992,  -2.26684014,   7.66788137,  18.43276383,\n",
       "        14.91100537,   6.94639005,  10.38682313,   5.51570715,\n",
       "        -9.99671546,   8.32900508, -10.21132729,  16.86378665,\n",
       "        15.49246757,  30.15865097,  20.03183582,  18.56037439,\n",
       "        13.14825577,   8.37003462,  10.47584527,  -3.77253715,\n",
       "        14.45706252,  -1.47727668,  -6.8647605 ,   2.75045533,\n",
       "        13.55734834,   0.559209  ,  -1.27729331,  -3.09930075,\n",
       "        -0.3147432 ,  25.12124885, -14.83996485,  19.21037089,\n",
       "        -9.26649993,  22.74036317,  22.25238501,  11.67778282,\n",
       "         7.7074775 ,   8.7760495 ,   8.21560108,  10.34635808,\n",
       "        11.64113439,   4.97301699,  -6.53007244,   7.70788179,\n",
       "         1.24744201,  -0.07361916,  15.6423329 ,   5.05542397,\n",
       "         1.22582321,  14.25782489, -11.83899236,  -3.88980217,\n",
       "        13.01835448,  -5.23258063,  -4.02534952,  15.9445852 ,\n",
       "       -13.24548988,   0.71381201,   7.77809108,  -1.99539078,\n",
       "        -0.52714305, -14.10705496,  10.91011532,  -9.65050155,\n",
       "         0.26544435,  -4.64678535,  13.30643945,   4.45150418,\n",
       "         0.79264394,  -0.33656338,  14.07802142,   8.82380378,\n",
       "        18.77419666,  10.73949007,   8.46939097,   7.05060056,\n",
       "        -1.81468292,   4.58070474,   0.40243776,   2.3529397 ,\n",
       "        25.05176064,  27.76442875,  13.97305058,  13.55855563,\n",
       "        19.42967846,  -1.86685525, -12.39870077,  11.87548696,\n",
       "         9.27898938,  18.86013205,  19.25832547,   8.12057988,\n",
       "        -5.5974994 ,  -0.42525794,   3.49536628,  10.96637957,\n",
       "         7.80221301, -10.50391011,   1.28508117,  25.21594215,\n",
       "         3.77575763,  -8.34898621, -11.06367254,  17.20086109,\n",
       "        11.85524826,  14.31865905,   1.83195918,  -9.37216622,\n",
       "         4.42476515,  12.15267424,  19.70610287,  10.31954138,\n",
       "        -0.70026984,   1.35202503,   3.62121715,  22.64926522,\n",
       "         9.07311437,   3.23564059,   3.40176182,  -9.69864311,\n",
       "        11.43383454, -10.55778157,  -2.91388657,   8.05020699,\n",
       "        10.2435831 ,   4.09362527,  11.60732471,  -1.02228383,\n",
       "         3.37872375,  -3.5580354 ,   3.08694892,  15.44818415,\n",
       "        11.03514957,   2.44251503, -16.11542844,  -0.64438924,\n",
       "       -13.21509034,  -1.81871366,  14.19646407,  -3.36683485,\n",
       "       -11.55404318,   9.11987148,   5.80692575,   3.52516682,\n",
       "        -0.32192355,  15.46193689, -18.79443395,   5.82200949,\n",
       "        21.61774438,  20.85128464,   0.40574348,   7.70570725,\n",
       "         0.10013842, -10.11569022,  11.58433695,   2.54634003,\n",
       "       -13.06555867,  -0.7221755 ,  15.51710435,   8.42442932,\n",
       "         2.40865993,   0.12784186, -19.39259378,  16.09145259,\n",
       "        -9.6066383 ,  12.35177104,  11.24129336, -19.42833689,\n",
       "        -8.72674974,   9.98676355,  -0.76023112, -10.40385454,\n",
       "         4.18636948,   6.90070531,   4.89188734,  -0.13176775,\n",
       "         4.2212851 ,  20.0941749 ,  -9.63720712,  -2.21540248,\n",
       "       -17.10295659, -15.10065808,   2.76598943,   2.68522066,\n",
       "        13.11910303,  -1.09014419,  -7.41920127,   6.48084206,\n",
       "         9.87286469,   8.03113483,  10.7905273 ,  30.69012313,\n",
       "       -11.5706864 ,   2.81420161,   7.47285969,  18.01348286,\n",
       "         0.81248413,  16.6003265 ,   1.32771263,  13.80543702,\n",
       "        15.09616665,  -1.86655546,  12.04473921,  -6.18134826,\n",
       "       -19.33588916,   7.97306169,   8.93901644,  -5.39743948,\n",
       "         8.64684408,  22.1204314 ,  -5.5790318 ,   8.10437247,\n",
       "         4.34122212,  17.41506761,  -6.57259696,   5.60048694,\n",
       "        22.02861129,   9.00910496,   0.31101866,   8.80852248,\n",
       "         6.00234417,   9.94509213,   4.82136966,   8.39321753,\n",
       "        -4.10866603,  11.69776276,  -0.22939699,  12.36703152,\n",
       "         3.49537054,   7.81968504,  13.39032902,  21.5364285 ,\n",
       "        -1.46816573,  -1.18750617,  22.11596156,  -5.2367045 ,\n",
       "         0.89222422,  17.38115971,  -7.10838936,   7.43536605,\n",
       "         3.21974132,  -9.6610519 ,   6.48615929,   3.05720636,\n",
       "         9.22102882,   8.66355249, -14.07304107,  -2.58956577,\n",
       "       -14.36285436,  15.61690381,  14.22509194, -12.45770694,\n",
       "       -11.24301092,  -1.22316393,  -1.9849022 ,  20.2923    ,\n",
       "         0.14661642,   2.93176115,  32.06115236,  -9.50377514,\n",
       "         3.9677256 ,   1.33001278,  12.9044454 , -11.0679492 ,\n",
       "        12.89356457,  10.74874016,  15.90227736,   1.48622225])"
      ]
     },
     "execution_count": 2,
     "metadata": {},
     "output_type": "execute_result"
    }
   ],
   "source": [
    "rvs1 =  norm.rvs(loc=5,scale=10,size=500)\n",
    "rvs1"
   ]
  },
  {
   "cell_type": "code",
   "execution_count": 3,
   "metadata": {},
   "outputs": [],
   "source": [
    "rvs2 =  norm.rvs(loc=5,scale=10,size=1000)"
   ]
  },
  {
   "cell_type": "code",
   "execution_count": 4,
   "metadata": {},
   "outputs": [
    {
     "data": {
      "text/plain": [
       "(array([  3.,  29.,  77., 175., 263., 241., 147.,  53.,  10.,   2.]),\n",
       " array([-28.22805683, -21.36939046, -14.51072409,  -7.65205772,\n",
       "         -0.79339135,   6.06527502,  12.9239414 ,  19.78260777,\n",
       "         26.64127414,  33.49994051,  40.35860688]),\n",
       " <BarContainer object of 10 artists>)"
      ]
     },
     "execution_count": 4,
     "metadata": {},
     "output_type": "execute_result"
    },
    {
     "data": {
      "image/png": "[encoded data removed]",
      "text/plain": [
       "<Figure size 432x288 with 1 Axes>"
      ]
     },
     "metadata": {
      "needs_background": "light"
     },
     "output_type": "display_data"
    }
   ],
   "source": [
    "plt.hist(rvs1)\n",
    "plt.hist(rvs2, alpha=0.2)"
   ]
  },
  {
   "cell_type": "code",
   "execution_count": 5,
   "metadata": {},
   "outputs": [
    {
     "data": {
      "text/plain": [
       "Ttest_indResult(statistic=-0.00748212450071907, pvalue=0.9940311803311701)"
      ]
     },
     "execution_count": 5,
     "metadata": {},
     "output_type": "execute_result"
    }
   ],
   "source": [
    "ttest_ind(rvs1, rvs2)"
   ]
  },
  {
   "cell_type": "code",
   "execution_count": 6,
   "metadata": {},
   "outputs": [],
   "source": [
    "df = pd.read_csv('https://raw.githubusercontent.com/msaricaumbc/DS_data/master/Part1_Crime_2017_to_2018.csv')"
   ]
  },
  {
   "cell_type": "code",
   "execution_count": 7,
   "metadata": {},
   "outputs": [
    {
     "data": {
      "text/plain": [
       "(100677, 19)"
      ]
     },
     "execution_count": 7,
     "metadata": {},
     "output_type": "execute_result"
    }
   ],
   "source": [
    "df.shape"
   ]
  },
  {
   "cell_type": "code",
   "execution_count": 8,
   "metadata": {},
   "outputs": [
    {
     "data": {
      "text/plain": [
       "objectid             int64\n",
       "rowid_               int64\n",
       "crimedatetime       object\n",
       "crimetime           object\n",
       "crimecode           object\n",
       "location            object\n",
       "description         object\n",
       "inside_outside      object\n",
       "weapon              object\n",
       "post               float64\n",
       "district            object\n",
       "neighborhood        object\n",
       "latitude           float64\n",
       "longitude          float64\n",
       "geolocation         object\n",
       "premise             object\n",
       "vriname             object\n",
       "total_incidents      int64\n",
       "hashedrecord        object\n",
       "dtype: object"
      ]
     },
     "execution_count": 8,
     "metadata": {},
     "output_type": "execute_result"
    }
   ],
   "source": [
    "df.dtypes"
   ]
  },
  {
   "cell_type": "code",
   "execution_count": 9,
   "metadata": {},
   "outputs": [],
   "source": [
    "df['crimedatetime'] = pd.to_datetime(df['crimedatetime'])"
   ]
  },
  {
   "cell_type": "code",
   "execution_count": 11,
   "metadata": {},
   "outputs": [
    {
     "data": {
      "text/html": [
       "<div>\n",
       "<style scoped>\n",
       "    .dataframe tbody tr th:only-of-type {\n",
       "        vertical-align: middle;\n",
       "    }\n",
       "\n",
       "    .dataframe tbody tr th {\n",
       "        vertical-align: top;\n",
       "    }\n",
       "\n",
       "    .dataframe thead th {\n",
       "        text-align: right;\n",
       "    }\n",
       "</style>\n",
       "<table border=\"1\" class=\"dataframe\">\n",
       "  <thead>\n",
       "    <tr style=\"text-align: right;\">\n",
       "      <th></th>\n",
       "      <th>0</th>\n",
       "      <th>1</th>\n",
       "      <th>2</th>\n",
       "    </tr>\n",
       "  </thead>\n",
       "  <tbody>\n",
       "    <tr>\n",
       "      <th>objectid</th>\n",
       "      <td>1</td>\n",
       "      <td>2</td>\n",
       "      <td>3</td>\n",
       "    </tr>\n",
       "    <tr>\n",
       "      <th>rowid_</th>\n",
       "      <td>82567</td>\n",
       "      <td>82568</td>\n",
       "      <td>82569</td>\n",
       "    </tr>\n",
       "    <tr>\n",
       "      <th>crimedatetime</th>\n",
       "      <td>2018-12-31 04:36:00</td>\n",
       "      <td>2018-12-31 17:30:00</td>\n",
       "      <td>2018-12-31 11:10:00</td>\n",
       "    </tr>\n",
       "    <tr>\n",
       "      <th>crimetime</th>\n",
       "      <td>4:36:00</td>\n",
       "      <td>17:30:00</td>\n",
       "      <td>11:10:00</td>\n",
       "    </tr>\n",
       "    <tr>\n",
       "      <th>crimecode</th>\n",
       "      <td>6G</td>\n",
       "      <td>6D</td>\n",
       "      <td>4E</td>\n",
       "    </tr>\n",
       "    <tr>\n",
       "      <th>location</th>\n",
       "      <td>400 W LEXINGTON ST</td>\n",
       "      <td>400 E 25TH ST</td>\n",
       "      <td>4200 FAIRFAX RD</td>\n",
       "    </tr>\n",
       "    <tr>\n",
       "      <th>description</th>\n",
       "      <td>LARCENY</td>\n",
       "      <td>LARCENY FROM AUTO</td>\n",
       "      <td>COMMON ASSAULT</td>\n",
       "    </tr>\n",
       "    <tr>\n",
       "      <th>inside_outside</th>\n",
       "      <td>I</td>\n",
       "      <td>O</td>\n",
       "      <td>I</td>\n",
       "    </tr>\n",
       "    <tr>\n",
       "      <th>weapon</th>\n",
       "      <td>NaN</td>\n",
       "      <td>NaN</td>\n",
       "      <td>NaN</td>\n",
       "    </tr>\n",
       "    <tr>\n",
       "      <th>post</th>\n",
       "      <td>114.0</td>\n",
       "      <td>513.0</td>\n",
       "      <td>624.0</td>\n",
       "    </tr>\n",
       "    <tr>\n",
       "      <th>district</th>\n",
       "      <td>CENTRAL</td>\n",
       "      <td>NORTHERN</td>\n",
       "      <td>NORTHWEST</td>\n",
       "    </tr>\n",
       "    <tr>\n",
       "      <th>neighborhood</th>\n",
       "      <td>DOWNTOWN</td>\n",
       "      <td>HARWOOD</td>\n",
       "      <td>WEST FOREST PARK</td>\n",
       "    </tr>\n",
       "    <tr>\n",
       "      <th>latitude</th>\n",
       "      <td>39.2916</td>\n",
       "      <td>39.3181</td>\n",
       "      <td>39.3204</td>\n",
       "    </tr>\n",
       "    <tr>\n",
       "      <th>longitude</th>\n",
       "      <td>-76.6211</td>\n",
       "      <td>-76.611</td>\n",
       "      <td>-76.6877</td>\n",
       "    </tr>\n",
       "    <tr>\n",
       "      <th>geolocation</th>\n",
       "      <td>(39.2916,-76.6211)</td>\n",
       "      <td>(39.3181,-76.611)</td>\n",
       "      <td>(39.3204,-76.6877)</td>\n",
       "    </tr>\n",
       "    <tr>\n",
       "      <th>premise</th>\n",
       "      <td>SPECIALTY STORE</td>\n",
       "      <td>STREET</td>\n",
       "      <td>APT/CONDO - OCCUPIED</td>\n",
       "    </tr>\n",
       "    <tr>\n",
       "      <th>vriname</th>\n",
       "      <td>NaN</td>\n",
       "      <td>NaN</td>\n",
       "      <td>NaN</td>\n",
       "    </tr>\n",
       "    <tr>\n",
       "      <th>total_incidents</th>\n",
       "      <td>1</td>\n",
       "      <td>1</td>\n",
       "      <td>1</td>\n",
       "    </tr>\n",
       "    <tr>\n",
       "      <th>hashedrecord</th>\n",
       "      <td>0xC961940C8A250EDAFFBB5E3D0E48727AC79817AE9EA6...</td>\n",
       "      <td>0x46FADA38EAC4E24AA9CCD81259651137A8073440F5F2...</td>\n",
       "      <td>0xFE7A5EDB382D00C6265CB48762D75AB7D2BC374871E8...</td>\n",
       "    </tr>\n",
       "  </tbody>\n",
       "</table>\n",
       "</div>"
      ],
      "text/plain": [
       "                                                                 0  \\\n",
       "objectid                                                         1   \n",
       "rowid_                                                       82567   \n",
       "crimedatetime                                  2018-12-31 04:36:00   \n",
       "crimetime                                                  4:36:00   \n",
       "crimecode                                                       6G   \n",
       "location                                        400 W LEXINGTON ST   \n",
       "description                                                LARCENY   \n",
       "inside_outside                                                   I   \n",
       "weapon                                                         NaN   \n",
       "post                                                         114.0   \n",
       "district                                                   CENTRAL   \n",
       "neighborhood                                              DOWNTOWN   \n",
       "latitude                                                   39.2916   \n",
       "longitude                                                 -76.6211   \n",
       "geolocation                                     (39.2916,-76.6211)   \n",
       "premise                                       SPECIALTY STORE        \n",
       "vriname                                                        NaN   \n",
       "total_incidents                                                  1   \n",
       "hashedrecord     0xC961940C8A250EDAFFBB5E3D0E48727AC79817AE9EA6...   \n",
       "\n",
       "                                                                 1  \\\n",
       "objectid                                                         2   \n",
       "rowid_                                                       82568   \n",
       "crimedatetime                                  2018-12-31 17:30:00   \n",
       "crimetime                                                 17:30:00   \n",
       "crimecode                                                       6D   \n",
       "location                                             400 E 25TH ST   \n",
       "description                                      LARCENY FROM AUTO   \n",
       "inside_outside                                                   O   \n",
       "weapon                                                         NaN   \n",
       "post                                                         513.0   \n",
       "district                                                  NORTHERN   \n",
       "neighborhood                                               HARWOOD   \n",
       "latitude                                                   39.3181   \n",
       "longitude                                                  -76.611   \n",
       "geolocation                                      (39.3181,-76.611)   \n",
       "premise                                       STREET                 \n",
       "vriname                                                        NaN   \n",
       "total_incidents                                                  1   \n",
       "hashedrecord     0x46FADA38EAC4E24AA9CCD81259651137A8073440F5F2...   \n",
       "\n",
       "                                                                 2  \n",
       "objectid                                                         3  \n",
       "rowid_                                                       82569  \n",
       "crimedatetime                                  2018-12-31 11:10:00  \n",
       "crimetime                                                 11:10:00  \n",
       "crimecode                                                       4E  \n",
       "location                                           4200 FAIRFAX RD  \n",
       "description                                         COMMON ASSAULT  \n",
       "inside_outside                                                   I  \n",
       "weapon                                                         NaN  \n",
       "post                                                         624.0  \n",
       "district                                                 NORTHWEST  \n",
       "neighborhood                                      WEST FOREST PARK  \n",
       "latitude                                                   39.3204  \n",
       "longitude                                                 -76.6877  \n",
       "geolocation                                     (39.3204,-76.6877)  \n",
       "premise                                       APT/CONDO - OCCUPIED  \n",
       "vriname                                                        NaN  \n",
       "total_incidents                                                  1  \n",
       "hashedrecord     0xFE7A5EDB382D00C6265CB48762D75AB7D2BC374871E8...  "
      ]
     },
     "execution_count": 11,
     "metadata": {},
     "output_type": "execute_result"
    }
   ],
   "source": [
    "df.head(3).T"
   ]
  },
  {
   "cell_type": "markdown",
   "metadata": {},
   "source": [
    "Hypothesis: There is no significant difference between crimes inside and outsides"
   ]
  },
  {
   "cell_type": "code",
   "execution_count": 12,
   "metadata": {},
   "outputs": [
    {
     "data": {
      "text/plain": [
       "O          40115\n",
       "I          38355\n",
       "Outside     1854\n",
       "Inside       176\n",
       "Name: inside_outside, dtype: int64"
      ]
     },
     "execution_count": 12,
     "metadata": {},
     "output_type": "execute_result"
    }
   ],
   "source": [
    "df['inside_outside'].value_counts()"
   ]
  },
  {
   "cell_type": "code",
   "execution_count": 13,
   "metadata": {},
   "outputs": [],
   "source": [
    "df['inside_outside'] = df['inside_outside'].replace({\n",
    "    'O': 'Outside', \n",
    "    'I':'Inside'\n",
    "})"
   ]
  },
  {
   "cell_type": "code",
   "execution_count": 14,
   "metadata": {},
   "outputs": [
    {
     "data": {
      "text/plain": [
       "Outside    41969\n",
       "Inside     38531\n",
       "Name: inside_outside, dtype: int64"
      ]
     },
     "execution_count": 14,
     "metadata": {},
     "output_type": "execute_result"
    }
   ],
   "source": [
    "df['inside_outside'].value_counts()"
   ]
  },
  {
   "cell_type": "code",
   "execution_count": null,
   "metadata": {},
   "outputs": [],
   "source": []
  },
  {
   "cell_type": "code",
   "execution_count": 15,
   "metadata": {},
   "outputs": [],
   "source": [
    "df['inside'] =  [1 if i=='Inside' else 0 for i in df['inside_outside']]\n",
    "df['outside'] = [1 if i=='Outside' else 0 for i in df['inside_outside']]"
   ]
  },
  {
   "cell_type": "code",
   "execution_count": 16,
   "metadata": {},
   "outputs": [
    {
     "data": {
      "text/html": [
       "<div>\n",
       "<style scoped>\n",
       "    .dataframe tbody tr th:only-of-type {\n",
       "        vertical-align: middle;\n",
       "    }\n",
       "\n",
       "    .dataframe tbody tr th {\n",
       "        vertical-align: top;\n",
       "    }\n",
       "\n",
       "    .dataframe thead th {\n",
       "        text-align: right;\n",
       "    }\n",
       "</style>\n",
       "<table border=\"1\" class=\"dataframe\">\n",
       "  <thead>\n",
       "    <tr style=\"text-align: right;\">\n",
       "      <th></th>\n",
       "      <th>objectid</th>\n",
       "      <th>rowid_</th>\n",
       "      <th>crimedatetime</th>\n",
       "      <th>crimetime</th>\n",
       "      <th>crimecode</th>\n",
       "      <th>location</th>\n",
       "      <th>description</th>\n",
       "      <th>inside_outside</th>\n",
       "      <th>weapon</th>\n",
       "      <th>post</th>\n",
       "      <th>...</th>\n",
       "      <th>neighborhood</th>\n",
       "      <th>latitude</th>\n",
       "      <th>longitude</th>\n",
       "      <th>geolocation</th>\n",
       "      <th>premise</th>\n",
       "      <th>vriname</th>\n",
       "      <th>total_incidents</th>\n",
       "      <th>hashedrecord</th>\n",
       "      <th>inside</th>\n",
       "      <th>outside</th>\n",
       "    </tr>\n",
       "  </thead>\n",
       "  <tbody>\n",
       "    <tr>\n",
       "      <th>0</th>\n",
       "      <td>1</td>\n",
       "      <td>82567</td>\n",
       "      <td>2018-12-31 04:36:00</td>\n",
       "      <td>4:36:00</td>\n",
       "      <td>6G</td>\n",
       "      <td>400 W LEXINGTON ST</td>\n",
       "      <td>LARCENY</td>\n",
       "      <td>Inside</td>\n",
       "      <td>NaN</td>\n",
       "      <td>114.0</td>\n",
       "      <td>...</td>\n",
       "      <td>DOWNTOWN</td>\n",
       "      <td>39.2916</td>\n",
       "      <td>-76.6211</td>\n",
       "      <td>(39.2916,-76.6211)</td>\n",
       "      <td>SPECIALTY STORE</td>\n",
       "      <td>NaN</td>\n",
       "      <td>1</td>\n",
       "      <td>0xC961940C8A250EDAFFBB5E3D0E48727AC79817AE9EA6...</td>\n",
       "      <td>1</td>\n",
       "      <td>0</td>\n",
       "    </tr>\n",
       "    <tr>\n",
       "      <th>1</th>\n",
       "      <td>2</td>\n",
       "      <td>82568</td>\n",
       "      <td>2018-12-31 17:30:00</td>\n",
       "      <td>17:30:00</td>\n",
       "      <td>6D</td>\n",
       "      <td>400 E 25TH ST</td>\n",
       "      <td>LARCENY FROM AUTO</td>\n",
       "      <td>Outside</td>\n",
       "      <td>NaN</td>\n",
       "      <td>513.0</td>\n",
       "      <td>...</td>\n",
       "      <td>HARWOOD</td>\n",
       "      <td>39.3181</td>\n",
       "      <td>-76.6110</td>\n",
       "      <td>(39.3181,-76.611)</td>\n",
       "      <td>STREET</td>\n",
       "      <td>NaN</td>\n",
       "      <td>1</td>\n",
       "      <td>0x46FADA38EAC4E24AA9CCD81259651137A8073440F5F2...</td>\n",
       "      <td>0</td>\n",
       "      <td>1</td>\n",
       "    </tr>\n",
       "    <tr>\n",
       "      <th>2</th>\n",
       "      <td>3</td>\n",
       "      <td>82569</td>\n",
       "      <td>2018-12-31 11:10:00</td>\n",
       "      <td>11:10:00</td>\n",
       "      <td>4E</td>\n",
       "      <td>4200 FAIRFAX RD</td>\n",
       "      <td>COMMON ASSAULT</td>\n",
       "      <td>Inside</td>\n",
       "      <td>NaN</td>\n",
       "      <td>624.0</td>\n",
       "      <td>...</td>\n",
       "      <td>WEST FOREST PARK</td>\n",
       "      <td>39.3204</td>\n",
       "      <td>-76.6877</td>\n",
       "      <td>(39.3204,-76.6877)</td>\n",
       "      <td>APT/CONDO - OCCUPIED</td>\n",
       "      <td>NaN</td>\n",
       "      <td>1</td>\n",
       "      <td>0xFE7A5EDB382D00C6265CB48762D75AB7D2BC374871E8...</td>\n",
       "      <td>1</td>\n",
       "      <td>0</td>\n",
       "    </tr>\n",
       "    <tr>\n",
       "      <th>3</th>\n",
       "      <td>4</td>\n",
       "      <td>82570</td>\n",
       "      <td>2018-12-31 19:45:00</td>\n",
       "      <td>19:45:00</td>\n",
       "      <td>4E</td>\n",
       "      <td>6500 SAINT HELENA AVE</td>\n",
       "      <td>COMMON ASSAULT</td>\n",
       "      <td>Inside</td>\n",
       "      <td>NaN</td>\n",
       "      <td>234.0</td>\n",
       "      <td>...</td>\n",
       "      <td>SAINT HELENA</td>\n",
       "      <td>39.2600</td>\n",
       "      <td>-76.5311</td>\n",
       "      <td>(39.26,-76.5311)</td>\n",
       "      <td>ROW/TOWNHOUSE-OCC</td>\n",
       "      <td>NaN</td>\n",
       "      <td>1</td>\n",
       "      <td>0xD60C2FB5283D72C29328A7DF528251D4B0F3EF0D9474...</td>\n",
       "      <td>1</td>\n",
       "      <td>0</td>\n",
       "    </tr>\n",
       "    <tr>\n",
       "      <th>4</th>\n",
       "      <td>5</td>\n",
       "      <td>82571</td>\n",
       "      <td>2018-12-31 22:43:00</td>\n",
       "      <td>22:43:00</td>\n",
       "      <td>4A</td>\n",
       "      <td>2400 W BELVEDERE AVE</td>\n",
       "      <td>AGG. ASSAULT</td>\n",
       "      <td>Inside</td>\n",
       "      <td>FIREARM</td>\n",
       "      <td>532.0</td>\n",
       "      <td>...</td>\n",
       "      <td>LEVINDALE</td>\n",
       "      <td>39.3545</td>\n",
       "      <td>-76.6623</td>\n",
       "      <td>(39.3545,-76.6623)</td>\n",
       "      <td>HOSP/NURS. HOME</td>\n",
       "      <td>NaN</td>\n",
       "      <td>1</td>\n",
       "      <td>0x3D27E5CF73522B733BA7EA512013FE1D8BE621801CC8...</td>\n",
       "      <td>1</td>\n",
       "      <td>0</td>\n",
       "    </tr>\n",
       "  </tbody>\n",
       "</table>\n",
       "<p>5 rows × 21 columns</p>\n",
       "</div>"
      ],
      "text/plain": [
       "   objectid  rowid_       crimedatetime crimetime crimecode  \\\n",
       "0         1   82567 2018-12-31 04:36:00   4:36:00        6G   \n",
       "1         2   82568 2018-12-31 17:30:00  17:30:00        6D   \n",
       "2         3   82569 2018-12-31 11:10:00  11:10:00        4E   \n",
       "3         4   82570 2018-12-31 19:45:00  19:45:00        4E   \n",
       "4         5   82571 2018-12-31 22:43:00  22:43:00        4A   \n",
       "\n",
       "                location        description inside_outside   weapon   post  \\\n",
       "0     400 W LEXINGTON ST            LARCENY         Inside      NaN  114.0   \n",
       "1          400 E 25TH ST  LARCENY FROM AUTO        Outside      NaN  513.0   \n",
       "2        4200 FAIRFAX RD     COMMON ASSAULT         Inside      NaN  624.0   \n",
       "3  6500 SAINT HELENA AVE     COMMON ASSAULT         Inside      NaN  234.0   \n",
       "4   2400 W BELVEDERE AVE       AGG. ASSAULT         Inside  FIREARM  532.0   \n",
       "\n",
       "   ...      neighborhood latitude  longitude         geolocation  \\\n",
       "0  ...          DOWNTOWN  39.2916   -76.6211  (39.2916,-76.6211)   \n",
       "1  ...           HARWOOD  39.3181   -76.6110   (39.3181,-76.611)   \n",
       "2  ...  WEST FOREST PARK  39.3204   -76.6877  (39.3204,-76.6877)   \n",
       "3  ...      SAINT HELENA  39.2600   -76.5311    (39.26,-76.5311)   \n",
       "4  ...         LEVINDALE  39.3545   -76.6623  (39.3545,-76.6623)   \n",
       "\n",
       "                premise vriname total_incidents  \\\n",
       "0  SPECIALTY STORE          NaN               1   \n",
       "1  STREET                   NaN               1   \n",
       "2  APT/CONDO - OCCUPIED     NaN               1   \n",
       "3     ROW/TOWNHOUSE-OCC     NaN               1   \n",
       "4       HOSP/NURS. HOME     NaN               1   \n",
       "\n",
       "                                        hashedrecord inside  outside  \n",
       "0  0xC961940C8A250EDAFFBB5E3D0E48727AC79817AE9EA6...      1        0  \n",
       "1  0x46FADA38EAC4E24AA9CCD81259651137A8073440F5F2...      0        1  \n",
       "2  0xFE7A5EDB382D00C6265CB48762D75AB7D2BC374871E8...      1        0  \n",
       "3  0xD60C2FB5283D72C29328A7DF528251D4B0F3EF0D9474...      1        0  \n",
       "4  0x3D27E5CF73522B733BA7EA512013FE1D8BE621801CC8...      1        0  \n",
       "\n",
       "[5 rows x 21 columns]"
      ]
     },
     "execution_count": 16,
     "metadata": {},
     "output_type": "execute_result"
    }
   ],
   "source": [
    "df.head()"
   ]
  },
  {
   "cell_type": "code",
   "execution_count": 18,
   "metadata": {},
   "outputs": [
    {
     "data": {
      "text/html": [
       "<div>\n",
       "<style scoped>\n",
       "    .dataframe tbody tr th:only-of-type {\n",
       "        vertical-align: middle;\n",
       "    }\n",
       "\n",
       "    .dataframe tbody tr th {\n",
       "        vertical-align: top;\n",
       "    }\n",
       "\n",
       "    .dataframe thead th {\n",
       "        text-align: right;\n",
       "    }\n",
       "</style>\n",
       "<table border=\"1\" class=\"dataframe\">\n",
       "  <thead>\n",
       "    <tr style=\"text-align: right;\">\n",
       "      <th></th>\n",
       "      <th>inside</th>\n",
       "      <th>outside</th>\n",
       "    </tr>\n",
       "    <tr>\n",
       "      <th>crimedatetime</th>\n",
       "      <th></th>\n",
       "      <th></th>\n",
       "    </tr>\n",
       "  </thead>\n",
       "  <tbody>\n",
       "    <tr>\n",
       "      <th>2017-01-01</th>\n",
       "      <td>66</td>\n",
       "      <td>62</td>\n",
       "    </tr>\n",
       "    <tr>\n",
       "      <th>2017-01-02</th>\n",
       "      <td>51</td>\n",
       "      <td>67</td>\n",
       "    </tr>\n",
       "    <tr>\n",
       "      <th>2017-01-03</th>\n",
       "      <td>40</td>\n",
       "      <td>38</td>\n",
       "    </tr>\n",
       "    <tr>\n",
       "      <th>2017-01-04</th>\n",
       "      <td>19</td>\n",
       "      <td>15</td>\n",
       "    </tr>\n",
       "    <tr>\n",
       "      <th>2017-01-05</th>\n",
       "      <td>17</td>\n",
       "      <td>21</td>\n",
       "    </tr>\n",
       "    <tr>\n",
       "      <th>...</th>\n",
       "      <td>...</td>\n",
       "      <td>...</td>\n",
       "    </tr>\n",
       "    <tr>\n",
       "      <th>2018-12-27</th>\n",
       "      <td>44</td>\n",
       "      <td>57</td>\n",
       "    </tr>\n",
       "    <tr>\n",
       "      <th>2018-12-28</th>\n",
       "      <td>57</td>\n",
       "      <td>65</td>\n",
       "    </tr>\n",
       "    <tr>\n",
       "      <th>2018-12-29</th>\n",
       "      <td>47</td>\n",
       "      <td>62</td>\n",
       "    </tr>\n",
       "    <tr>\n",
       "      <th>2018-12-30</th>\n",
       "      <td>48</td>\n",
       "      <td>59</td>\n",
       "    </tr>\n",
       "    <tr>\n",
       "      <th>2018-12-31</th>\n",
       "      <td>50</td>\n",
       "      <td>74</td>\n",
       "    </tr>\n",
       "  </tbody>\n",
       "</table>\n",
       "<p>730 rows × 2 columns</p>\n",
       "</div>"
      ],
      "text/plain": [
       "               inside  outside\n",
       "crimedatetime                 \n",
       "2017-01-01         66       62\n",
       "2017-01-02         51       67\n",
       "2017-01-03         40       38\n",
       "2017-01-04         19       15\n",
       "2017-01-05         17       21\n",
       "...               ...      ...\n",
       "2018-12-27         44       57\n",
       "2018-12-28         57       65\n",
       "2018-12-29         47       62\n",
       "2018-12-30         48       59\n",
       "2018-12-31         50       74\n",
       "\n",
       "[730 rows x 2 columns]"
      ]
     },
     "execution_count": 18,
     "metadata": {},
     "output_type": "execute_result"
    }
   ],
   "source": [
    "df_io = df[['inside', 'outside']].groupby(df['crimedatetime'].dt.date).sum() # this may be count if you are counting\n",
    "df_io"
   ]
  },
  {
   "cell_type": "code",
   "execution_count": 19,
   "metadata": {},
   "outputs": [
    {
     "data": {
      "text/plain": [
       "Ttest_indResult(statistic=-6.703280799283819, pvalue=2.9271019609461777e-11)"
      ]
     },
     "execution_count": 19,
     "metadata": {},
     "output_type": "execute_result"
    }
   ],
   "source": [
    "inside = df_io['inside']\n",
    "outside = df_io['outside']  \n",
    "ttest_ind(inside, outside , equal_var=False)"
   ]
  },
  {
   "cell_type": "markdown",
   "metadata": {},
   "source": [
    "pvalue is less than 0.05"
   ]
  },
  {
   "cell_type": "markdown",
   "metadata": {},
   "source": [
    "Let's do another example.\n",
    "\n",
    "Null hypothesis: There is no significance different between Hampden & Canton neighborhood in terms of weapon used crimes."
   ]
  },
  {
   "cell_type": "code",
   "execution_count": 20,
   "metadata": {},
   "outputs": [
    {
     "data": {
      "text/plain": [
       "FIREARM    11006\n",
       "OTHER       6477\n",
       "KNIFE       3346\n",
       "HANDS       1336\n",
       "FIRE         391\n",
       "Name: weapon, dtype: int64"
      ]
     },
     "execution_count": 20,
     "metadata": {},
     "output_type": "execute_result"
    }
   ],
   "source": [
    "df['weapon'].value_counts()"
   ]
  },
  {
   "cell_type": "code",
   "execution_count": 21,
   "metadata": {},
   "outputs": [],
   "source": [
    "df_weapon = df[df['weapon'].isna() == False]"
   ]
  },
  {
   "cell_type": "code",
   "execution_count": 22,
   "metadata": {},
   "outputs": [],
   "source": [
    "hampden = df_weapon[ df_weapon['neighborhood'] == 'HAMPDEN' ]\n",
    "canton = df_weapon[ df_weapon['neighborhood'] == 'CANTON' ]"
   ]
  },
  {
   "cell_type": "code",
   "execution_count": 23,
   "metadata": {},
   "outputs": [
    {
     "data": {
      "text/plain": [
       "crimedatetime\n",
       "2017-01-01    3\n",
       "2017-01-05    1\n",
       "2017-01-08    3\n",
       "2017-01-24    1\n",
       "2017-01-25    1\n",
       "             ..\n",
       "2018-12-12    1\n",
       "2018-12-15    1\n",
       "2018-12-16    1\n",
       "2018-12-18    4\n",
       "2018-12-30    1\n",
       "Name: weapon, Length: 106, dtype: int64"
      ]
     },
     "execution_count": 23,
     "metadata": {},
     "output_type": "execute_result"
    }
   ],
   "source": [
    "hampden_counts = hampden['weapon'].groupby( hampden['crimedatetime'].dt.date ).count()\n",
    "hampden_counts"
   ]
  },
  {
   "cell_type": "code",
   "execution_count": 24,
   "metadata": {},
   "outputs": [
    {
     "data": {
      "text/plain": [
       "crimedatetime\n",
       "2017-01-01    4\n",
       "2017-01-02    2\n",
       "2017-01-07    2\n",
       "2017-01-12    1\n",
       "2017-01-13    1\n",
       "             ..\n",
       "2018-12-18    1\n",
       "2018-12-26    1\n",
       "2018-12-29    1\n",
       "2018-12-30    2\n",
       "2018-12-31    1\n",
       "Name: weapon, Length: 133, dtype: int64"
      ]
     },
     "execution_count": 24,
     "metadata": {},
     "output_type": "execute_result"
    }
   ],
   "source": [
    "canton_counts = canton['weapon'].groupby( canton['crimedatetime'].dt.date ).count()\n",
    "canton_counts"
   ]
  },
  {
   "cell_type": "code",
   "execution_count": 25,
   "metadata": {},
   "outputs": [
    {
     "data": {
      "text/plain": [
       "Ttest_indResult(statistic=0.1379880975095151, pvalue=0.8904029753837779)"
      ]
     },
     "execution_count": 25,
     "metadata": {},
     "output_type": "execute_result"
    }
   ],
   "source": [
    "ttest_ind(hampden_counts, canton_counts, equal_var=False)"
   ]
  },
  {
   "cell_type": "code",
   "execution_count": 31,
   "metadata": {},
   "outputs": [],
   "source": [
    "from random import randint"
   ]
  },
  {
   "cell_type": "code",
   "execution_count": 53,
   "metadata": {},
   "outputs": [
    {
     "data": {
      "text/html": [
       "<div>\n",
       "<style scoped>\n",
       "    .dataframe tbody tr th:only-of-type {\n",
       "        vertical-align: middle;\n",
       "    }\n",
       "\n",
       "    .dataframe tbody tr th {\n",
       "        vertical-align: top;\n",
       "    }\n",
       "\n",
       "    .dataframe thead th {\n",
       "        text-align: right;\n",
       "    }\n",
       "</style>\n",
       "<table border=\"1\" class=\"dataframe\">\n",
       "  <thead>\n",
       "    <tr style=\"text-align: right;\">\n",
       "      <th></th>\n",
       "      <th>a</th>\n",
       "      <th>b</th>\n",
       "      <th>d</th>\n",
       "    </tr>\n",
       "  </thead>\n",
       "  <tbody>\n",
       "    <tr>\n",
       "      <th>0</th>\n",
       "      <td>9.635294</td>\n",
       "      <td>11.450293</td>\n",
       "      <td>3</td>\n",
       "    </tr>\n",
       "    <tr>\n",
       "      <th>1</th>\n",
       "      <td>6.631320</td>\n",
       "      <td>2.714850</td>\n",
       "      <td>3</td>\n",
       "    </tr>\n",
       "    <tr>\n",
       "      <th>2</th>\n",
       "      <td>1.212452</td>\n",
       "      <td>19.961766</td>\n",
       "      <td>3</td>\n",
       "    </tr>\n",
       "    <tr>\n",
       "      <th>3</th>\n",
       "      <td>-20.210695</td>\n",
       "      <td>-0.306794</td>\n",
       "      <td>3</td>\n",
       "    </tr>\n",
       "    <tr>\n",
       "      <th>4</th>\n",
       "      <td>14.068979</td>\n",
       "      <td>13.193350</td>\n",
       "      <td>3</td>\n",
       "    </tr>\n",
       "    <tr>\n",
       "      <th>...</th>\n",
       "      <td>...</td>\n",
       "      <td>...</td>\n",
       "      <td>...</td>\n",
       "    </tr>\n",
       "    <tr>\n",
       "      <th>495</th>\n",
       "      <td>12.169039</td>\n",
       "      <td>-0.584267</td>\n",
       "      <td>3</td>\n",
       "    </tr>\n",
       "    <tr>\n",
       "      <th>496</th>\n",
       "      <td>23.037994</td>\n",
       "      <td>-0.789684</td>\n",
       "      <td>3</td>\n",
       "    </tr>\n",
       "    <tr>\n",
       "      <th>497</th>\n",
       "      <td>2.017392</td>\n",
       "      <td>-11.244726</td>\n",
       "      <td>3</td>\n",
       "    </tr>\n",
       "    <tr>\n",
       "      <th>498</th>\n",
       "      <td>7.801188</td>\n",
       "      <td>6.727231</td>\n",
       "      <td>3</td>\n",
       "    </tr>\n",
       "    <tr>\n",
       "      <th>499</th>\n",
       "      <td>12.727960</td>\n",
       "      <td>2.514560</td>\n",
       "      <td>3</td>\n",
       "    </tr>\n",
       "  </tbody>\n",
       "</table>\n",
       "<p>500 rows × 3 columns</p>\n",
       "</div>"
      ],
      "text/plain": [
       "             a          b  d\n",
       "0     9.635294  11.450293  3\n",
       "1     6.631320   2.714850  3\n",
       "2     1.212452  19.961766  3\n",
       "3   -20.210695  -0.306794  3\n",
       "4    14.068979  13.193350  3\n",
       "..         ...        ... ..\n",
       "495  12.169039  -0.584267  3\n",
       "496  23.037994  -0.789684  3\n",
       "497   2.017392 -11.244726  3\n",
       "498   7.801188   6.727231  3\n",
       "499  12.727960   2.514560  3\n",
       "\n",
       "[500 rows x 3 columns]"
      ]
     },
     "execution_count": 53,
     "metadata": {},
     "output_type": "execute_result"
    }
   ],
   "source": [
    "df = pd.DataFrame()\n",
    "df['a'] = norm.rvs(loc=5,scale=10,size=500) #  [x for x in range(20)]\n",
    "df['b'] = norm.rvs(loc=5,scale=10,size=500)\n",
    "#df['c'] = [x-20 for x in range(20)]\n",
    "df['d'] = 3\n",
    "\n",
    "df"
   ]
  },
  {
   "cell_type": "code",
   "execution_count": 54,
   "metadata": {},
   "outputs": [
    {
     "data": {
      "text/html": [
       "<div>\n",
       "<style scoped>\n",
       "    .dataframe tbody tr th:only-of-type {\n",
       "        vertical-align: middle;\n",
       "    }\n",
       "\n",
       "    .dataframe tbody tr th {\n",
       "        vertical-align: top;\n",
       "    }\n",
       "\n",
       "    .dataframe thead th {\n",
       "        text-align: right;\n",
       "    }\n",
       "</style>\n",
       "<table border=\"1\" class=\"dataframe\">\n",
       "  <thead>\n",
       "    <tr style=\"text-align: right;\">\n",
       "      <th></th>\n",
       "      <th>a</th>\n",
       "      <th>b</th>\n",
       "    </tr>\n",
       "  </thead>\n",
       "  <tbody>\n",
       "    <tr>\n",
       "      <th>a</th>\n",
       "      <td>1.000000</td>\n",
       "      <td>-0.010188</td>\n",
       "    </tr>\n",
       "    <tr>\n",
       "      <th>b</th>\n",
       "      <td>-0.010188</td>\n",
       "      <td>1.000000</td>\n",
       "    </tr>\n",
       "  </tbody>\n",
       "</table>\n",
       "</div>"
      ],
      "text/plain": [
       "          a         b\n",
       "a  1.000000 -0.010188\n",
       "b -0.010188  1.000000"
      ]
     },
     "execution_count": 54,
     "metadata": {},
     "output_type": "execute_result"
    }
   ],
   "source": [
    "df[['a','b']].corr()"
   ]
  },
  {
   "cell_type": "code",
   "execution_count": 61,
   "metadata": {},
   "outputs": [
    {
     "data": {
      "text/html": [
       "<div>\n",
       "<style scoped>\n",
       "    .dataframe tbody tr th:only-of-type {\n",
       "        vertical-align: middle;\n",
       "    }\n",
       "\n",
       "    .dataframe tbody tr th {\n",
       "        vertical-align: top;\n",
       "    }\n",
       "\n",
       "    .dataframe thead th {\n",
       "        text-align: right;\n",
       "    }\n",
       "</style>\n",
       "<table border=\"1\" class=\"dataframe\">\n",
       "  <thead>\n",
       "    <tr style=\"text-align: right;\">\n",
       "      <th></th>\n",
       "      <th>a</th>\n",
       "      <th>b</th>\n",
       "    </tr>\n",
       "  </thead>\n",
       "  <tbody>\n",
       "    <tr>\n",
       "      <th>0</th>\n",
       "      <td>0</td>\n",
       "      <td>-5</td>\n",
       "    </tr>\n",
       "    <tr>\n",
       "      <th>1</th>\n",
       "      <td>1</td>\n",
       "      <td>11</td>\n",
       "    </tr>\n",
       "    <tr>\n",
       "      <th>2</th>\n",
       "      <td>2</td>\n",
       "      <td>2</td>\n",
       "    </tr>\n",
       "    <tr>\n",
       "      <th>3</th>\n",
       "      <td>3</td>\n",
       "      <td>4</td>\n",
       "    </tr>\n",
       "    <tr>\n",
       "      <th>4</th>\n",
       "      <td>4</td>\n",
       "      <td>12</td>\n",
       "    </tr>\n",
       "    <tr>\n",
       "      <th>5</th>\n",
       "      <td>5</td>\n",
       "      <td>2</td>\n",
       "    </tr>\n",
       "    <tr>\n",
       "      <th>6</th>\n",
       "      <td>6</td>\n",
       "      <td>14</td>\n",
       "    </tr>\n",
       "    <tr>\n",
       "      <th>7</th>\n",
       "      <td>7</td>\n",
       "      <td>10</td>\n",
       "    </tr>\n",
       "    <tr>\n",
       "      <th>8</th>\n",
       "      <td>8</td>\n",
       "      <td>-1</td>\n",
       "    </tr>\n",
       "    <tr>\n",
       "      <th>9</th>\n",
       "      <td>9</td>\n",
       "      <td>0</td>\n",
       "    </tr>\n",
       "    <tr>\n",
       "      <th>10</th>\n",
       "      <td>10</td>\n",
       "      <td>1</td>\n",
       "    </tr>\n",
       "    <tr>\n",
       "      <th>11</th>\n",
       "      <td>11</td>\n",
       "      <td>6</td>\n",
       "    </tr>\n",
       "    <tr>\n",
       "      <th>12</th>\n",
       "      <td>12</td>\n",
       "      <td>21</td>\n",
       "    </tr>\n",
       "    <tr>\n",
       "      <th>13</th>\n",
       "      <td>13</td>\n",
       "      <td>22</td>\n",
       "    </tr>\n",
       "    <tr>\n",
       "      <th>14</th>\n",
       "      <td>14</td>\n",
       "      <td>5</td>\n",
       "    </tr>\n",
       "    <tr>\n",
       "      <th>15</th>\n",
       "      <td>15</td>\n",
       "      <td>20</td>\n",
       "    </tr>\n",
       "    <tr>\n",
       "      <th>16</th>\n",
       "      <td>16</td>\n",
       "      <td>23</td>\n",
       "    </tr>\n",
       "    <tr>\n",
       "      <th>17</th>\n",
       "      <td>17</td>\n",
       "      <td>14</td>\n",
       "    </tr>\n",
       "    <tr>\n",
       "      <th>18</th>\n",
       "      <td>18</td>\n",
       "      <td>20</td>\n",
       "    </tr>\n",
       "    <tr>\n",
       "      <th>19</th>\n",
       "      <td>19</td>\n",
       "      <td>20</td>\n",
       "    </tr>\n",
       "  </tbody>\n",
       "</table>\n",
       "</div>"
      ],
      "text/plain": [
       "     a   b\n",
       "0    0  -5\n",
       "1    1  11\n",
       "2    2   2\n",
       "3    3   4\n",
       "4    4  12\n",
       "5    5   2\n",
       "6    6  14\n",
       "7    7  10\n",
       "8    8  -1\n",
       "9    9   0\n",
       "10  10   1\n",
       "11  11   6\n",
       "12  12  21\n",
       "13  13  22\n",
       "14  14   5\n",
       "15  15  20\n",
       "16  16  23\n",
       "17  17  14\n",
       "18  18  20\n",
       "19  19  20"
      ]
     },
     "execution_count": 61,
     "metadata": {},
     "output_type": "execute_result"
    }
   ],
   "source": [
    "df = pd.DataFrame()\n",
    "df['a'] =  [x for x in range(20)]\n",
    "df['b'] = [x + randint(-10, 10) for x in range(20)]\n",
    "df"
   ]
  },
  {
   "cell_type": "code",
   "execution_count": 62,
   "metadata": {},
   "outputs": [
    {
     "data": {
      "text/html": [
       "<div>\n",
       "<style scoped>\n",
       "    .dataframe tbody tr th:only-of-type {\n",
       "        vertical-align: middle;\n",
       "    }\n",
       "\n",
       "    .dataframe tbody tr th {\n",
       "        vertical-align: top;\n",
       "    }\n",
       "\n",
       "    .dataframe thead th {\n",
       "        text-align: right;\n",
       "    }\n",
       "</style>\n",
       "<table border=\"1\" class=\"dataframe\">\n",
       "  <thead>\n",
       "    <tr style=\"text-align: right;\">\n",
       "      <th></th>\n",
       "      <th>a</th>\n",
       "      <th>b</th>\n",
       "    </tr>\n",
       "  </thead>\n",
       "  <tbody>\n",
       "    <tr>\n",
       "      <th>a</th>\n",
       "      <td>1.000000</td>\n",
       "      <td>0.651675</td>\n",
       "    </tr>\n",
       "    <tr>\n",
       "      <th>b</th>\n",
       "      <td>0.651675</td>\n",
       "      <td>1.000000</td>\n",
       "    </tr>\n",
       "  </tbody>\n",
       "</table>\n",
       "</div>"
      ],
      "text/plain": [
       "          a         b\n",
       "a  1.000000  0.651675\n",
       "b  0.651675  1.000000"
      ]
     },
     "execution_count": 62,
     "metadata": {},
     "output_type": "execute_result"
    }
   ],
   "source": [
    "df.corr()"
   ]
  },
  {
   "cell_type": "code",
   "execution_count": null,
   "metadata": {},
   "outputs": [],
   "source": []
  }
 ],
 "metadata": {
  "kernelspec": {
   "display_name": "Python 3",
   "language": "python",
   "name": "python3"
  },
  "language_info": {
   "codemirror_mode": {
    "name": "ipython",
    "version": 3
   },
   "file_extension": ".py",
   "mimetype": "text/x-python",
   "name": "python",
   "nbconvert_exporter": "python",
   "pygments_lexer": "ipython3",
   "version": "3.8.8"
  },
  "toc": {
   "base_numbering": 1,
   "nav_menu": {},
   "number_sections": true,
   "sideBar": true,
   "skip_h1_title": false,
   "title_cell": "Table of Contents",
   "title_sidebar": "Contents",
   "toc_cell": false,
   "toc_position": {},
   "toc_section_display": true,
   "toc_window_display": false
  },
  "varInspector": {
   "cols": {
    "lenName": 16,
    "lenType": 16,
    "lenVar": 40
   },
   "kernels_config": {
    "python": {
     "delete_cmd_postfix": "",
     "delete_cmd_prefix": "del ",
     "library": "var_list.py",
     "varRefreshCmd": "print(var_dic_list())"
    },
    "r": {
     "delete_cmd_postfix": ") ",
     "delete_cmd_prefix": "rm(",
     "library": "var_list.r",
     "varRefreshCmd": "cat(var_dic_list()) "
    }
   },
   "types_to_exclude": [
    "module",
    "function",
    "builtin_function_or_method",
    "instance",
    "_Feature"
   ],
   "window_display": false
  }
 },
 "nbformat": 4,
 "nbformat_minor": 2
}
