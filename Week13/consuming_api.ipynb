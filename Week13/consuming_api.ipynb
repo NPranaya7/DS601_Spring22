{
 "cells": [
  {
   "cell_type": "code",
   "execution_count": null,
   "id": "2258fe70",
   "metadata": {},
   "outputs": [],
   "source": [
    "import requests\n",
    "import json"
   ]
  },
  {
   "cell_type": "code",
   "execution_count": null,
   "id": "9ed35086",
   "metadata": {},
   "outputs": [],
   "source": [
    "sentence = \"it's an awesome movie. everybody needs to see this!\""
   ]
  },
  {
   "cell_type": "code",
   "execution_count": null,
   "id": "cd33b8b3",
   "metadata": {},
   "outputs": [],
   "source": [
    "ip = '18.205.237.38'\n",
    "url = f'http://{ip}/?sentence={sentence}'\n"
   ]
  },
  {
   "cell_type": "code",
   "execution_count": null,
   "id": "338124c3",
   "metadata": {},
   "outputs": [],
   "source": [
    "json.loads(requests.get(url ).text)"
   ]
  },
  {
   "cell_type": "code",
   "execution_count": null,
   "id": "afb203fa",
   "metadata": {},
   "outputs": [],
   "source": []
  }
 ],
 "metadata": {
  "kernelspec": {
   "display_name": "Python 3",
   "language": "python",
   "name": "python3"
  },
  "language_info": {
   "codemirror_mode": {
    "name": "ipython",
    "version": 3
   },
   "file_extension": ".py",
   "mimetype": "text/x-python",
   "name": "python",
   "nbconvert_exporter": "python",
   "pygments_lexer": "ipython3",
   "version": "3.8.8"
  },
  "toc": {
   "base_numbering": 1,
   "nav_menu": {},
   "number_sections": true,
   "sideBar": true,
   "skip_h1_title": false,
   "title_cell": "Table of Contents",
   "title_sidebar": "Contents",
   "toc_cell": false,
   "toc_position": {},
   "toc_section_display": true,
   "toc_window_display": false
  }
 },
 "nbformat": 4,
 "nbformat_minor": 5
}
