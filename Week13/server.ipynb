{
 "cells": [
  {
   "cell_type": "code",
   "execution_count": null,
   "id": "4eb950bb",
   "metadata": {},
   "outputs": [],
   "source": [
    "# !pip install flask_cors\n",
    "# !pip install flask\n",
    "# !pip install waitress"
   ]
  },
  {
   "cell_type": "code",
   "execution_count": null,
   "id": "2e093c24",
   "metadata": {},
   "outputs": [],
   "source": [
    "import pickle\n",
    "from sklearn.feature_extraction.text import TfidfVectorizer\n",
    "from sklearn.linear_model import LogisticRegression\n",
    "\n",
    "from flask import Flask\n",
    "from flask import jsonify, request\n",
    "from flask_cors import CORS"
   ]
  },
  {
   "cell_type": "code",
   "execution_count": null,
   "id": "ba5c6009",
   "metadata": {},
   "outputs": [],
   "source": [
    "def load_model_file(filename):\n",
    "    obj = pickle.load(open(filename, 'rb'))\n",
    "    \n",
    "    model = obj['model']\n",
    "    vectorizer = obj['vectorizer']\n",
    "    \n",
    "    return model, vectorizer\n",
    "    return obj\n",
    "\n",
    "def predict(sentences, model, vectorizer):\n",
    "    sentences = sentences if isinstance(sentences, list) else [sentences]\n",
    "    vector = vectorizer.transform(sentences)\n",
    "    return model.predict(vector)"
   ]
  },
  {
   "cell_type": "code",
   "execution_count": null,
   "id": "00d655c2",
   "metadata": {},
   "outputs": [],
   "source": [
    "model, vectorizer = load_model_file('movie_model.pkl')"
   ]
  },
  {
   "cell_type": "code",
   "execution_count": null,
   "id": "2173daaa",
   "metadata": {},
   "outputs": [],
   "source": [
    "print(predict('this is a great movie.', model, vectorizer))"
   ]
  },
  {
   "cell_type": "code",
   "execution_count": null,
   "id": "68906827",
   "metadata": {},
   "outputs": [],
   "source": [
    "print(predict('this is a horrible movie.', model, vectorizer))"
   ]
  },
  {
   "cell_type": "code",
   "execution_count": null,
   "id": "dc8c5135",
   "metadata": {},
   "outputs": [],
   "source": [
    "app = Flask(__name__)\n",
    "CORS(app)\n",
    "\n",
    "@app.route('/')\n",
    "def start():\n",
    "    sentence = request.args.get('sentence')\n",
    "\n",
    "    if sentence == None: \n",
    "        return jsonify({})\n",
    "\n",
    "    # print(sentence)\n",
    "    \n",
    "    result = predict(sentence, model, vectorizer)\n",
    "    \n",
    "    # print(result)\n",
    "    return jsonify({\n",
    "        'sentence': sentence,\n",
    "        'sentiment': result[0]\n",
    "    })\n",
    "\n",
    "if __name__ == '__main__':\n",
    "    app.run()"
   ]
  },
  {
   "cell_type": "markdown",
   "id": "257e9007",
   "metadata": {},
   "source": [
    "## For production"
   ]
  },
  {
   "cell_type": "code",
   "execution_count": null,
   "id": "d7c878ea",
   "metadata": {},
   "outputs": [],
   "source": [
    "# from flask import Flask\n",
    "# from flask import jsonify, request\n",
    "# from flask_cors import CORS\n",
    "# from waitress import serve\n",
    "\n",
    "# app = Flask(__name__)\n",
    "# CORS(app)\n",
    "\n",
    "# @app.route('/')\n",
    "# def start():\n",
    "#     sentence = request.args.get('sentence')\n",
    "    \n",
    "#     if sentence == None: \n",
    "#         return jsonify({})\n",
    "\n",
    "#     # print(sentence)\n",
    "    \n",
    "#     result = predict(sentence, model, vectorizer)\n",
    "    \n",
    "#     # print(result)\n",
    "#     return jsonify({\n",
    "#         'sentence': sentence,\n",
    "#         'sentiment': result[0]\n",
    "#     })\n",
    "\n",
    "# if __name__ == '__main__':\n",
    "#     serve(app, host=\"0.0.0.0\", port=80)"
   ]
  },
  {
   "cell_type": "code",
   "execution_count": null,
   "id": "bed4d32b",
   "metadata": {},
   "outputs": [],
   "source": [
    "!ls"
   ]
  },
  {
   "cell_type": "code",
   "execution_count": null,
   "id": "4b64a421",
   "metadata": {},
   "outputs": [],
   "source": [
    "!aws s3 cp movie_model.pkl s3://com.msarica.ds/movie_model.pkl\n",
    "!aws s3 cp server.py s3://com.msarica.ds/server.py"
   ]
  },
  {
   "cell_type": "code",
   "execution_count": null,
   "id": "817ee5ee",
   "metadata": {},
   "outputs": [],
   "source": []
  }
 ],
 "metadata": {
  "kernelspec": {
   "display_name": "Python 3",
   "language": "python",
   "name": "python3"
  },
  "language_info": {
   "codemirror_mode": {
    "name": "ipython",
    "version": 3
   },
   "file_extension": ".py",
   "mimetype": "text/x-python",
   "name": "python",
   "nbconvert_exporter": "python",
   "pygments_lexer": "ipython3",
   "version": "3.8.8"
  },
  "toc": {
   "base_numbering": 1,
   "nav_menu": {},
   "number_sections": true,
   "sideBar": true,
   "skip_h1_title": false,
   "title_cell": "Table of Contents",
   "title_sidebar": "Contents",
   "toc_cell": false,
   "toc_position": {},
   "toc_section_display": true,
   "toc_window_display": false
  }
 },
 "nbformat": 4,
 "nbformat_minor": 5
}
