{
  "nbformat": 4,
  "nbformat_minor": 0,
  "metadata": {
    "colab": {
      "name": "inclass_help_hw03.ipynb",
      "provenance": [],
      "authorship_tag": "ABX9TyOuHeW/tdhAz9ij0H+4gUVQ",
      "include_colab_link": true
    },
    "kernelspec": {
      "name": "python3",
      "display_name": "Python 3"
    },
    "language_info": {
      "name": "python"
    }
  },
  "cells": [
    {
      "cell_type": "markdown",
      "metadata": {
        "id": "view-in-github",
        "colab_type": "text"
      },
      "source": [
        "<a href=\"https://colab.research.google.com/github/NPranaya7/DS601_Spring22/blob/master/Inclass%20Session/Class_03/inclass_help_hw03.ipynb\" target=\"_parent\"><img src=\"https://colab.research.google.com/assets/colab-badge.svg\" alt=\"Open In Colab\"/></a>"
      ]
    },
    {
      "cell_type": "markdown",
      "source": [
        "## Inclass session_03\n",
        "- Date:14/02/2022\n",
        "- N Pranay manikanta\n",
        "- MT50255"
      ],
      "metadata": {
        "id": "jVXcDi-q3kuU"
      }
    },
    {
      "cell_type": "code",
      "execution_count": 6,
      "metadata": {
        "colab": {
          "base_uri": "https://localhost:8080/"
        },
        "id": "rmemAqusxk9c",
        "outputId": "f775df85-d96d-4e2e-df09-51374678b8c5"
      },
      "outputs": [
        {
          "output_type": "stream",
          "name": "stdout",
          "text": [
            "[1, 2, 3, 'pranay', 'mani', 45, 7]\n"
          ]
        }
      ],
      "source": [
        "x = [1,2,3,\"pranay\",\"mani\",45,7]\n",
        "print (x)"
      ]
    },
    {
      "cell_type": "code",
      "source": [
        "for i in x:\n",
        "    print(i, end=\" * \")"
      ],
      "metadata": {
        "colab": {
          "base_uri": "https://localhost:8080/"
        },
        "id": "Cb7upxO-zOZx",
        "outputId": "d4d70c26-a928-40fc-c5b8-d0c5fcbdd5c7"
      },
      "execution_count": 12,
      "outputs": [
        {
          "output_type": "stream",
          "name": "stdout",
          "text": [
            "1 * 2 * 3 * pranay * mani * 45 * 7 * "
          ]
        }
      ]
    },
    {
      "cell_type": "code",
      "source": [
        "import random\n"
      ],
      "metadata": {
        "id": "cadGmEI9zub_"
      },
      "execution_count": 13,
      "outputs": []
    },
    {
      "cell_type": "code",
      "source": [
        "random.randint(1, 7)"
      ],
      "metadata": {
        "colab": {
          "base_uri": "https://localhost:8080/"
        },
        "id": "tpWGCTdM0kov",
        "outputId": "f0cfcb65-a8c6-4855-c354-5562221625d3"
      },
      "execution_count": 16,
      "outputs": [
        {
          "output_type": "execute_result",
          "data": {
            "text/plain": [
              "7"
            ]
          },
          "metadata": {},
          "execution_count": 16
        }
      ]
    },
    {
      "cell_type": "code",
      "source": [
        "for i in range(10):\n",
        "    print(random.randint(0,9))"
      ],
      "metadata": {
        "colab": {
          "base_uri": "https://localhost:8080/"
        },
        "id": "EEQC1Oa1072l",
        "outputId": "c9da744e-2fcb-47e1-8ae8-90fd3a6d746a"
      },
      "execution_count": 18,
      "outputs": [
        {
          "output_type": "stream",
          "name": "stdout",
          "text": [
            "5\n",
            "6\n",
            "5\n",
            "7\n",
            "9\n",
            "7\n",
            "4\n",
            "2\n",
            "6\n",
            "8\n"
          ]
        }
      ]
    },
    {
      "cell_type": "code",
      "source": [
        "for i in range(10):\n",
        "    print(random.randint(0,9),end=\" \")"
      ],
      "metadata": {
        "colab": {
          "base_uri": "https://localhost:8080/"
        },
        "id": "jsvGX1PL1N2-",
        "outputId": "f93527cb-a27d-4b75-f95c-947b5360bc58"
      },
      "execution_count": 19,
      "outputs": [
        {
          "output_type": "stream",
          "name": "stdout",
          "text": [
            "6 2 2 6 2 1 3 0 3 8 "
          ]
        }
      ]
    },
    {
      "cell_type": "code",
      "source": [
        "for i in range(10):\n",
        "    for j in range(10):\n",
        "        print(random.randint(0,9),end=\" \")\n",
        "    print()"
      ],
      "metadata": {
        "colab": {
          "base_uri": "https://localhost:8080/"
        },
        "id": "Pa-YyVxI1dSt",
        "outputId": "b42a312f-00e9-406f-f677-e836c41f25d6"
      },
      "execution_count": 22,
      "outputs": [
        {
          "output_type": "stream",
          "name": "stdout",
          "text": [
            "4 4 4 8 0 2 8 7 5 7 \n",
            "0 3 0 8 3 1 0 8 4 9 \n",
            "1 4 8 1 6 2 5 9 9 1 \n",
            "6 4 4 1 5 3 1 5 3 6 \n",
            "9 8 9 9 1 6 8 3 6 2 \n",
            "6 6 2 9 8 4 1 5 0 2 \n",
            "5 4 7 9 9 6 8 8 0 0 \n",
            "0 1 6 9 5 4 6 2 7 6 \n",
            "1 8 4 2 5 6 0 6 0 6 \n",
            "1 2 0 8 8 8 4 4 9 3 \n"
          ]
        }
      ]
    },
    {
      "cell_type": "code",
      "source": [
        "for i in range(10):\n",
        "    for j in range(10):\n",
        "        a = random.randint(0,9)\n",
        "        odd=a\n",
        "        if a in [1,3,5,7,9]:\n",
        "          print(\"@\",end=\" \")\n",
        "        else:\n",
        "          print(a,end=\" \")\n",
        "    print()"
      ],
      "metadata": {
        "colab": {
          "base_uri": "https://localhost:8080/"
        },
        "id": "x7tmpoWS149S",
        "outputId": "503153a5-616f-4c29-b1d5-a41dc3abaf02"
      },
      "execution_count": 28,
      "outputs": [
        {
          "output_type": "stream",
          "name": "stdout",
          "text": [
            "6 @ 8 0 6 @ @ @ @ @ \n",
            "@ 8 8 @ 8 @ @ 6 2 @ \n",
            "8 @ @ 6 @ @ 8 @ @ @ \n",
            "@ 0 @ 2 0 @ @ @ 0 @ \n",
            "@ 6 @ 4 4 4 0 @ @ @ \n",
            "@ 0 @ 6 @ @ 4 2 @ 8 \n",
            "@ 0 @ 2 @ 0 8 6 4 4 \n",
            "@ @ 2 8 4 @ 0 @ @ 8 \n",
            "@ 6 @ @ @ 8 @ 6 @ 8 \n",
            "4 @ 2 @ 6 4 0 8 @ @ \n"
          ]
        }
      ]
    }
  ]
}