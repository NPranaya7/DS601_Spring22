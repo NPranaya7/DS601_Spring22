{
  "nbformat": 4,
  "nbformat_minor": 0,
  "metadata": {
    "colab": {
      "name": "Assignment_04_Using_python.ipynb",
      "provenance": [],
      "collapsed_sections": [
        "-cXygo_ZK6wl"
      ],
      "authorship_tag": "ABX9TyMGIxA2IoKaFmbP9nogIEQP",
      "include_colab_link": true
    },
    "kernelspec": {
      "name": "python3",
      "display_name": "Python 3"
    },
    "language_info": {
      "name": "python"
    }
  },
  "cells": [
    {
      "cell_type": "markdown",
      "metadata": {
        "id": "view-in-github",
        "colab_type": "text"
      },
      "source": [
        "<a href=\"https://colab.research.google.com/github/NPranaya7/DS601_Spring22/blob/master/Assignment_04/Assignment_04_Using_python.ipynb\" target=\"_parent\"><img src=\"https://colab.research.google.com/assets/colab-badge.svg\" alt=\"Open In Colab\"/></a>"
      ]
    },
    {
      "cell_type": "markdown",
      "source": [
        "## Assignment_04\n",
        "- Date: 22/02/2202\n",
        "- Narava Pranay manikanta"
      ],
      "metadata": {
        "id": "-cXygo_ZK6wl"
      }
    },
    {
      "cell_type": "markdown",
      "source": [
        "## Part A\n",
        "- Using Python"
      ],
      "metadata": {
        "id": "R44DPVeQLEoQ"
      }
    },
    {
      "cell_type": "code",
      "source": [
        "with open(\"/content/census_costs.txt\", \"r\") as file:\n",
        "    line_list = file.readlines()\n",
        "\n",
        "line_list"
      ],
      "metadata": {
        "colab": {
          "base_uri": "https://localhost:8080/"
        },
        "id": "Gx738VFLLEOc",
        "outputId": "39edc3d4-a2b1-4688-be2b-b425a904b82d"
      },
      "execution_count": 48,
      "outputs": [
        {
          "output_type": "execute_result",
          "data": {
            "text/plain": [
              "['Source: https://www.genealogybranches.com/censuscosts.html\\n',\n",
              " 'Census Year\\tTotal Population\\tCensus Cost\\tAverage Cost Per Person\\n',\n",
              " '1790\\t3,929,214\\t$44,377\\t1.13 cents\\n',\n",
              " '1800\\t5,308,483\\t$66,109\\t1.24 cents\\n',\n",
              " '1810\\t7,239,881\\t$178,445\\t2.46 cents\\n',\n",
              " '1820\\t9,633,822\\t$208,526\\t2.16 cents\\n',\n",
              " '1830\\t12,866,020\\t$378,545\\t2.94 cents\\n',\n",
              " '1840\\t17,069,458\\t$833,371\\t4.88 cents\\n',\n",
              " '1850\\t23,191,876\\t$1,423,351\\t6.14 cents\\n',\n",
              " '1860\\t31,443,321\\t$1,969,377\\t6.26 cents\\n',\n",
              " '1870\\t38,558,371\\t$3,421,198\\t8.87 cents\\n',\n",
              " '1880\\t50,155,783\\t$5,790,678\\t11.54 cents\\n',\n",
              " '1890\\t62,979,766\\t$11,547,127\\t18.33 cents\\n',\n",
              " '1900\\t76,303,387\\t$11,854,000\\t15.54 cents\\n',\n",
              " '1910\\t91,972,266\\t$15,968,000\\t17.07 cents\\n',\n",
              " '1920\\t105,710,620\\t$25,117,000\\t23.76 cents\\n',\n",
              " '1930\\t122,775,046\\t$40,156,000\\t32.71 cents\\n',\n",
              " '1940\\t131,669,275\\t$67,527,000\\t51.29 cents\\n',\n",
              " '1950\\t151,325,798\\t$91,462,000\\t60.44 cents\\n',\n",
              " '1960\\t179,323,175\\t$127,934,000\\t71.34 cents\\n',\n",
              " '1970\\t203,302,031\\t$247,653,000\\t$1.22\\n',\n",
              " '1980\\t226,542,199\\t$1,078,488,000\\t$4.76\\n',\n",
              " '1990\\t248,718,301\\t$2,492,830,000\\t$10.02\\n',\n",
              " '2000\\t281,421,906\\t$4.5 Billion\\t$15.99\\n',\n",
              " '2010*\\t308,745,538\\t$13 Billion\\t$42.11\\n']"
            ]
          },
          "metadata": {},
          "execution_count": 48
        }
      ]
    },
    {
      "cell_type": "code",
      "source": [
        "top2_list = line_list[:2]\n",
        "top2_list"
      ],
      "metadata": {
        "colab": {
          "base_uri": "https://localhost:8080/"
        },
        "id": "WDOO60arPNFN",
        "outputId": "c9b98dca-57f5-48aa-f637-48b6fb34243c"
      },
      "execution_count": 49,
      "outputs": [
        {
          "output_type": "execute_result",
          "data": {
            "text/plain": [
              "['Source: https://www.genealogybranches.com/censuscosts.html\\n',\n",
              " 'Census Year\\tTotal Population\\tCensus Cost\\tAverage Cost Per Person\\n']"
            ]
          },
          "metadata": {},
          "execution_count": 49
        }
      ]
    },
    {
      "cell_type": "code",
      "source": [
        "data_list = line_list[2:]\n",
        "data_list"
      ],
      "metadata": {
        "colab": {
          "base_uri": "https://localhost:8080/"
        },
        "id": "wG_ep32lTBAW",
        "outputId": "05fd9b59-90a8-418d-c66c-35ac8f06ec8e"
      },
      "execution_count": 50,
      "outputs": [
        {
          "output_type": "execute_result",
          "data": {
            "text/plain": [
              "['1790\\t3,929,214\\t$44,377\\t1.13 cents\\n',\n",
              " '1800\\t5,308,483\\t$66,109\\t1.24 cents\\n',\n",
              " '1810\\t7,239,881\\t$178,445\\t2.46 cents\\n',\n",
              " '1820\\t9,633,822\\t$208,526\\t2.16 cents\\n',\n",
              " '1830\\t12,866,020\\t$378,545\\t2.94 cents\\n',\n",
              " '1840\\t17,069,458\\t$833,371\\t4.88 cents\\n',\n",
              " '1850\\t23,191,876\\t$1,423,351\\t6.14 cents\\n',\n",
              " '1860\\t31,443,321\\t$1,969,377\\t6.26 cents\\n',\n",
              " '1870\\t38,558,371\\t$3,421,198\\t8.87 cents\\n',\n",
              " '1880\\t50,155,783\\t$5,790,678\\t11.54 cents\\n',\n",
              " '1890\\t62,979,766\\t$11,547,127\\t18.33 cents\\n',\n",
              " '1900\\t76,303,387\\t$11,854,000\\t15.54 cents\\n',\n",
              " '1910\\t91,972,266\\t$15,968,000\\t17.07 cents\\n',\n",
              " '1920\\t105,710,620\\t$25,117,000\\t23.76 cents\\n',\n",
              " '1930\\t122,775,046\\t$40,156,000\\t32.71 cents\\n',\n",
              " '1940\\t131,669,275\\t$67,527,000\\t51.29 cents\\n',\n",
              " '1950\\t151,325,798\\t$91,462,000\\t60.44 cents\\n',\n",
              " '1960\\t179,323,175\\t$127,934,000\\t71.34 cents\\n',\n",
              " '1970\\t203,302,031\\t$247,653,000\\t$1.22\\n',\n",
              " '1980\\t226,542,199\\t$1,078,488,000\\t$4.76\\n',\n",
              " '1990\\t248,718,301\\t$2,492,830,000\\t$10.02\\n',\n",
              " '2000\\t281,421,906\\t$4.5 Billion\\t$15.99\\n',\n",
              " '2010*\\t308,745,538\\t$13 Billion\\t$42.11\\n']"
            ]
          },
          "metadata": {},
          "execution_count": 50
        }
      ]
    },
    {
      "cell_type": "code",
      "source": [
        "year_list = [line.split(\"\\t\")[0] for line in data_list]\n",
        "cleansed_year_list = [Census_Year.replace(\"*\",\"\") for Census_Year in year_list]\n",
        "cleansed_year_list"
      ],
      "metadata": {
        "colab": {
          "base_uri": "https://localhost:8080/"
        },
        "id": "dasd9XxtT_WE",
        "outputId": "d6cd1103-69c2-40fc-b340-c542315cbf34"
      },
      "execution_count": 51,
      "outputs": [
        {
          "output_type": "execute_result",
          "data": {
            "text/plain": [
              "['1790',\n",
              " '1800',\n",
              " '1810',\n",
              " '1820',\n",
              " '1830',\n",
              " '1840',\n",
              " '1850',\n",
              " '1860',\n",
              " '1870',\n",
              " '1880',\n",
              " '1890',\n",
              " '1900',\n",
              " '1910',\n",
              " '1920',\n",
              " '1930',\n",
              " '1940',\n",
              " '1950',\n",
              " '1960',\n",
              " '1970',\n",
              " '1980',\n",
              " '1990',\n",
              " '2000',\n",
              " '2010']"
            ]
          },
          "metadata": {},
          "execution_count": 51
        }
      ]
    },
    {
      "cell_type": "code",
      "source": [
        "pop_list = [line.split(\"\\t\")[1] for line in data_list]\n",
        "cleansed_pop_list = [total_population.replace(\",\",\"\") for total_population in pop_list] \n",
        "cleansed_pop_list"
      ],
      "metadata": {
        "colab": {
          "base_uri": "https://localhost:8080/"
        },
        "id": "HdmS1xKVV6OQ",
        "outputId": "ff6dfc4c-57d9-471e-a151-6a8ff765281f"
      },
      "execution_count": 52,
      "outputs": [
        {
          "output_type": "execute_result",
          "data": {
            "text/plain": [
              "['3929214',\n",
              " '5308483',\n",
              " '7239881',\n",
              " '9633822',\n",
              " '12866020',\n",
              " '17069458',\n",
              " '23191876',\n",
              " '31443321',\n",
              " '38558371',\n",
              " '50155783',\n",
              " '62979766',\n",
              " '76303387',\n",
              " '91972266',\n",
              " '105710620',\n",
              " '122775046',\n",
              " '131669275',\n",
              " '151325798',\n",
              " '179323175',\n",
              " '203302031',\n",
              " '226542199',\n",
              " '248718301',\n",
              " '281421906',\n",
              " '308745538']"
            ]
          },
          "metadata": {},
          "execution_count": 52
        }
      ]
    },
    {
      "cell_type": "code",
      "source": [
        "cost_list = [line.split(\"\\t\")[2] for line in data_list]\n",
        "cleansed_cost_list = [Census_Cost.replace(\",\",\"\") for Census_Cost in cost_list] \n",
        "cleansed_cost_list = [Census_Cost.replace(\"$\",\"\") for Census_Cost in cleansed_cost_list] \n",
        "cleansed_cost_list = [Census_Cost.replace(\" Billion\",\"000000000000\") for Census_Cost in cleansed_cost_list] \n",
        "cleansed_cost_list = [Census_Cost.replace(\".50\",\"5\") for Census_Cost in cleansed_cost_list]\n",
        "\n",
        "cleansed_cost_list"
      ],
      "metadata": {
        "colab": {
          "base_uri": "https://localhost:8080/"
        },
        "id": "Ux0Dh3pJXWyb",
        "outputId": "f84bce8f-cb0d-4a8b-c5d9-4a8cb2cec8ae"
      },
      "execution_count": 53,
      "outputs": [
        {
          "output_type": "execute_result",
          "data": {
            "text/plain": [
              "['44377',\n",
              " '66109',\n",
              " '178445',\n",
              " '208526',\n",
              " '378545',\n",
              " '833371',\n",
              " '1423351',\n",
              " '1969377',\n",
              " '3421198',\n",
              " '5790678',\n",
              " '11547127',\n",
              " '11854000',\n",
              " '15968000',\n",
              " '25117000',\n",
              " '40156000',\n",
              " '67527000',\n",
              " '91462000',\n",
              " '127934000',\n",
              " '247653000',\n",
              " '1078488000',\n",
              " '2492830000',\n",
              " '4500000000000',\n",
              " '13000000000000']"
            ]
          },
          "metadata": {},
          "execution_count": 53
        }
      ]
    },
    {
      "cell_type": "code",
      "source": [
        "avg_list = [line.split(\"\\t\")[3] for line in data_list]\n",
        "cleansed_avg_list = [avg_cost.replace(\"$\",\"\") for avg_cost in avg_list] \n",
        "cleansed_avg_list = [avg_cost.replace(\"cents\\n\",\"\") for avg_cost in cleansed_avg_list] \n",
        "cleansed_avg_list = [avg_cost.replace(\"\\n\",\"\") for avg_cost in cleansed_avg_list]\n",
        "cleansed_avg_list = [float(avg) for avg in cleansed_avg_list]\n",
        "cleansed_avg_list = [avg/100 for avg in cleansed_avg_list]\n",
        "\n",
        "cleansed_avg_list"
      ],
      "metadata": {
        "colab": {
          "base_uri": "https://localhost:8080/"
        },
        "id": "MsktRPdLaGvX",
        "outputId": "5df3fecb-bec8-4c00-b38e-43d1477c5465"
      },
      "execution_count": 54,
      "outputs": [
        {
          "output_type": "execute_result",
          "data": {
            "text/plain": [
              "[0.0113,\n",
              " 0.0124,\n",
              " 0.0246,\n",
              " 0.0216,\n",
              " 0.0294,\n",
              " 0.048799999999999996,\n",
              " 0.061399999999999996,\n",
              " 0.0626,\n",
              " 0.08869999999999999,\n",
              " 0.11539999999999999,\n",
              " 0.1833,\n",
              " 0.15539999999999998,\n",
              " 0.1707,\n",
              " 0.2376,\n",
              " 0.3271,\n",
              " 0.5129,\n",
              " 0.6043999999999999,\n",
              " 0.7134,\n",
              " 0.012199999999999999,\n",
              " 0.047599999999999996,\n",
              " 0.1002,\n",
              " 0.15990000000000001,\n",
              " 0.4211]"
            ]
          },
          "metadata": {},
          "execution_count": 54
        }
      ]
    },
    {
      "cell_type": "code",
      "source": [
        "with open(\"/content/census_costs.csv\", \"w\") as f:\n",
        "    f.writelines(top2_list)\n",
        "\n",
        "    for i in range(len(cleansed_year_list)):\n",
        "      f.write(cleansed_year_list[i])\n",
        "      f.write(\",\")\n",
        "      f.write(cleansed_pop_list[i])\n",
        "      f.write(\",\")\n",
        "      f.write(cleansed_cost_list[i])\n",
        "      f.write\n",
        "      f.write(str(cleansed_avg_list[i]))\n",
        "\n",
        "      if i != len((cleansed_year_list)) - 1:\n",
        "           f.write(\"\\n\")\n",
        "\n"
      ],
      "metadata": {
        "id": "_3S2KsbeeQ8c"
      },
      "execution_count": 55,
      "outputs": []
    },
    {
      "cell_type": "code",
      "source": [
        "with open(\"/content/census_costs.csv\", \"r\") as cfile:\n",
        "    df = cfile.readlines()\n",
        "\n",
        "df"
      ],
      "metadata": {
        "colab": {
          "base_uri": "https://localhost:8080/"
        },
        "id": "DF5GJ4d46Jqw",
        "outputId": "d2c7525c-8bcf-411b-a6c8-fdf5fed94e14"
      },
      "execution_count": 56,
      "outputs": [
        {
          "output_type": "execute_result",
          "data": {
            "text/plain": [
              "['Source: https://www.genealogybranches.com/censuscosts.html\\n',\n",
              " 'Census Year\\tTotal Population\\tCensus Cost\\tAverage Cost Per Person\\n',\n",
              " '1790,3929214,443770.0113\\n',\n",
              " '1800,5308483,661090.0124\\n',\n",
              " '1810,7239881,1784450.0246\\n',\n",
              " '1820,9633822,2085260.0216\\n',\n",
              " '1830,12866020,3785450.0294\\n',\n",
              " '1840,17069458,8333710.048799999999999996\\n',\n",
              " '1850,23191876,14233510.061399999999999996\\n',\n",
              " '1860,31443321,19693770.0626\\n',\n",
              " '1870,38558371,34211980.08869999999999999\\n',\n",
              " '1880,50155783,57906780.11539999999999999\\n',\n",
              " '1890,62979766,115471270.1833\\n',\n",
              " '1900,76303387,118540000.15539999999999998\\n',\n",
              " '1910,91972266,159680000.1707\\n',\n",
              " '1920,105710620,251170000.2376\\n',\n",
              " '1930,122775046,401560000.3271\\n',\n",
              " '1940,131669275,675270000.5129\\n',\n",
              " '1950,151325798,914620000.6043999999999999\\n',\n",
              " '1960,179323175,1279340000.7134\\n',\n",
              " '1970,203302031,2476530000.012199999999999999\\n',\n",
              " '1980,226542199,10784880000.047599999999999996\\n',\n",
              " '1990,248718301,24928300000.1002\\n',\n",
              " '2000,281421906,45000000000000.15990000000000001\\n',\n",
              " '2010,308745538,130000000000000.4211']"
            ]
          },
          "metadata": {},
          "execution_count": 56
        }
      ]
    }
  ]
}